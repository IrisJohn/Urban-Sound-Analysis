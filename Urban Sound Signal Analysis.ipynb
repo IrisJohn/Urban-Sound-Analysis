{
 "cells": [
  {
   "cell_type": "code",
   "execution_count": 1,
   "metadata": {},
   "outputs": [
    {
     "name": "stdout",
     "output_type": "stream",
     "text": [
      "Collecting librosa\n",
      "  Downloading librosa-0.8.1-py3-none-any.whl (203 kB)\n",
      "Collecting pooch>=1.0\n",
      "  Downloading pooch-1.4.0-py3-none-any.whl (51 kB)\n",
      "Requirement already satisfied: scipy>=1.0.0 in c:\\users\\irisj\\anaconda3\\lib\\site-packages (from librosa) (1.5.2)\n",
      "Requirement already satisfied: numba>=0.43.0 in c:\\users\\irisj\\anaconda3\\lib\\site-packages (from librosa) (0.51.2)\n",
      "Requirement already satisfied: decorator>=3.0.0 in c:\\users\\irisj\\anaconda3\\lib\\site-packages (from librosa) (4.4.2)\n",
      "Requirement already satisfied: joblib>=0.14 in c:\\users\\irisj\\anaconda3\\lib\\site-packages (from librosa) (0.17.0)\n",
      "Collecting resampy>=0.2.2\n",
      "  Downloading resampy-0.2.2.tar.gz (323 kB)\n",
      "Requirement already satisfied: scikit-learn!=0.19.0,>=0.14.0 in c:\\users\\irisj\\anaconda3\\lib\\site-packages (from librosa) (0.23.2)\n",
      "Requirement already satisfied: numpy>=1.15.0 in c:\\users\\irisj\\anaconda3\\lib\\site-packages (from librosa) (1.19.2)\n",
      "Collecting soundfile>=0.10.2\n",
      "  Downloading SoundFile-0.10.3.post1-py2.py3.cp26.cp27.cp32.cp33.cp34.cp35.cp36.pp27.pp32.pp33-none-win_amd64.whl (689 kB)\n",
      "Requirement already satisfied: packaging>=20.0 in c:\\users\\irisj\\anaconda3\\lib\\site-packages (from librosa) (20.4)\n",
      "Collecting audioread>=2.0.0\n",
      "  Downloading audioread-2.1.9.tar.gz (377 kB)\n",
      "Requirement already satisfied: requests in c:\\users\\irisj\\anaconda3\\lib\\site-packages (from pooch>=1.0->librosa) (2.24.0)\n",
      "Collecting appdirs\n",
      "  Downloading appdirs-1.4.4-py2.py3-none-any.whl (9.6 kB)\n",
      "Requirement already satisfied: llvmlite<0.35,>=0.34.0.dev0 in c:\\users\\irisj\\anaconda3\\lib\\site-packages (from numba>=0.43.0->librosa) (0.34.0)\n",
      "Requirement already satisfied: setuptools in c:\\users\\irisj\\anaconda3\\lib\\site-packages (from numba>=0.43.0->librosa) (50.3.1.post20201107)\n",
      "Requirement already satisfied: six>=1.3 in c:\\users\\irisj\\anaconda3\\lib\\site-packages (from resampy>=0.2.2->librosa) (1.15.0)\n",
      "Requirement already satisfied: threadpoolctl>=2.0.0 in c:\\users\\irisj\\anaconda3\\lib\\site-packages (from scikit-learn!=0.19.0,>=0.14.0->librosa) (2.1.0)\n",
      "Requirement already satisfied: cffi>=1.0 in c:\\users\\irisj\\anaconda3\\lib\\site-packages (from soundfile>=0.10.2->librosa) (1.14.3)\n",
      "Requirement already satisfied: pyparsing>=2.0.2 in c:\\users\\irisj\\anaconda3\\lib\\site-packages (from packaging>=20.0->librosa) (2.4.7)\n",
      "Requirement already satisfied: urllib3!=1.25.0,!=1.25.1,<1.26,>=1.21.1 in c:\\users\\irisj\\anaconda3\\lib\\site-packages (from requests->pooch>=1.0->librosa) (1.25.11)\n",
      "Requirement already satisfied: chardet<4,>=3.0.2 in c:\\users\\irisj\\anaconda3\\lib\\site-packages (from requests->pooch>=1.0->librosa) (3.0.4)\n",
      "Requirement already satisfied: idna<3,>=2.5 in c:\\users\\irisj\\anaconda3\\lib\\site-packages (from requests->pooch>=1.0->librosa) (2.10)\n",
      "Requirement already satisfied: certifi>=2017.4.17 in c:\\users\\irisj\\anaconda3\\lib\\site-packages (from requests->pooch>=1.0->librosa) (2020.6.20)\n",
      "Requirement already satisfied: pycparser in c:\\users\\irisj\\anaconda3\\lib\\site-packages (from cffi>=1.0->soundfile>=0.10.2->librosa) (2.20)\n",
      "Building wheels for collected packages: resampy, audioread\n",
      "  Building wheel for resampy (setup.py): started\n",
      "  Building wheel for resampy (setup.py): finished with status 'done'\n",
      "  Created wheel for resampy: filename=resampy-0.2.2-py3-none-any.whl size=320724 sha256=2fd54153579fd5bedc4672d0ce4b83bf873ffc9e0135ee707c19e4166dc9161f\n",
      "  Stored in directory: c:\\users\\irisj\\appdata\\local\\pip\\cache\\wheels\\6f\\d1\\5d\\f13da53b1dcbc2624ff548456c9ffb526c914f53c12c318bb4\n",
      "  Building wheel for audioread (setup.py): started\n",
      "  Building wheel for audioread (setup.py): finished with status 'done'\n",
      "  Created wheel for audioread: filename=audioread-2.1.9-py3-none-any.whl size=23146 sha256=d08b81a1c096ecd34db94b5553333f900c270ba6ee4d0038c7369eccd95916e6\n",
      "  Stored in directory: c:\\users\\irisj\\appdata\\local\\pip\\cache\\wheels\\49\\5a\\e4\\df590783499a992a88de6c0898991d1167453a3196d0d1eeb7\n",
      "Successfully built resampy audioread\n",
      "Installing collected packages: appdirs, pooch, resampy, soundfile, audioread, librosa\n",
      "Successfully installed appdirs-1.4.4 audioread-2.1.9 librosa-0.8.1 pooch-1.4.0 resampy-0.2.2 soundfile-0.10.3.post1\n"
     ]
    }
   ],
   "source": [
    "!pip install librosa"
   ]
  },
  {
   "cell_type": "code",
   "execution_count": 2,
   "metadata": {},
   "outputs": [],
   "source": [
    "import matplotlib.pyplot as plt"
   ]
  },
  {
   "cell_type": "code",
   "execution_count": 26,
   "metadata": {},
   "outputs": [
    {
     "name": "stdout",
     "output_type": "stream",
     "text": [
      " Volume in drive C is Windows-SSD\n",
      " Volume Serial Number is 1666-03D5\n",
      "\n",
      " Directory of C:\\Users\\irisj\\UST Global Tech\n",
      "\n",
      "21-07-2021  12:30    <DIR>          .\n",
      "21-07-2021  12:30    <DIR>          ..\n",
      "21-07-2021  12:09    <DIR>          .ipynb_checkpoints\n",
      "21-07-2021  12:29           705,644 dogbarking.wav\n",
      "18-07-2021  17:51         1,616,728 Features_2500RPM_0dB_full.mat\n",
      "18-07-2021  17:51         1,600,255 Features_2500RPM_15dB_full.mat\n",
      "18-07-2021  17:51         1,580,278 Features_2500RPM_30dB_full.mat\n",
      "18-07-2021  17:51         1,547,206 Features_2500RPM_60dB_full.mat\n",
      "21-07-2021  10:42             3,114 First.ipynb\n",
      "21-07-2021  12:30            18,560 Untitled.ipynb\n",
      "               7 File(s)      7,071,785 bytes\n",
      "               3 Dir(s)  35,498,684,416 bytes free\n"
     ]
    }
   ],
   "source": [
    "!dir"
   ]
  },
  {
   "cell_type": "code",
   "execution_count": 5,
   "metadata": {},
   "outputs": [],
   "source": [
    "%matplotlib inline"
   ]
  },
  {
   "cell_type": "code",
   "execution_count": 29,
   "metadata": {},
   "outputs": [],
   "source": [
    "filename='UrbanSound8K/dogbarking.wav'\n",
    "import IPython.display as ipd\n",
    "import librosa\n",
    "import librosa.display"
   ]
  },
  {
   "cell_type": "code",
   "execution_count": 58,
   "metadata": {},
   "outputs": [
    {
     "data": {
      "text/html": [
       "\n",
       "                <audio  controls=\"controls\" >\n",
       "                    <source src=\"data:audio/wav;base64,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\" type=\"audio/wav\" />\n",
       "                    Your browser does not support the audio element.\n",
       "                </audio>\n",
       "              "
      ],
      "text/plain": [
       "<IPython.lib.display.Audio object>"
      ]
     },
     "execution_count": 58,
     "metadata": {},
     "output_type": "execute_result"
    },
    {
     "data": {
      "image/png": "[encoded data removed]",
      "text/plain": [
       "<Figure size 1008x360 with 1 Axes>"
      ]
     },
     "metadata": {
      "needs_background": "light"
     },
     "output_type": "display_data"
    }
   ],
   "source": [
    "#dog barking sound\n",
    "#100032-3-0-0\n",
    "filename='UrbanSound8K/100032-3-0-0.wav'\n",
    "\n",
    "plt.figure(figsize=(14,5))\n",
    "data,sample_rate=librosa.load(filename)\n",
    "librosa.display.waveplot(data,sr=sample_rate)\n",
    "ipd.Audio(filename)#by default reads sample rate"
   ]
  },
  {
   "cell_type": "code",
   "execution_count": 33,
   "metadata": {},
   "outputs": [
    {
     "data": {
      "text/plain": [
       "22050"
      ]
     },
     "execution_count": 33,
     "metadata": {},
     "output_type": "execute_result"
    }
   ],
   "source": [
    "sample_rate#num of sound samples per sec"
   ]
  },
  {
   "cell_type": "code",
   "execution_count": 45,
   "metadata": {},
   "outputs": [
    {
     "name": "stdout",
     "output_type": "stream",
     "text": [
      "Requirement already satisfied: Scipy in c:\\users\\irisj\\anaconda3\\lib\\site-packages (1.5.2)\n",
      "Requirement already satisfied: numpy>=1.14.5 in c:\\users\\irisj\\anaconda3\\lib\\site-packages (from Scipy) (1.19.2)\n"
     ]
    }
   ],
   "source": [
    "!pip install Scipy"
   ]
  },
  {
   "cell_type": "code",
   "execution_count": 46,
   "metadata": {},
   "outputs": [],
   "source": [
    "import scipy\n"
   ]
  },
  {
   "cell_type": "code",
   "execution_count": 47,
   "metadata": {},
   "outputs": [],
   "source": [
    "from scipy.io import wavfile as wav"
   ]
  },
  {
   "cell_type": "code",
   "execution_count": 48,
   "metadata": {},
   "outputs": [],
   "source": [
    "wave_sample_rate,wave_audio=wav.read(filename)"
   ]
  },
  {
   "cell_type": "code",
   "execution_count": 49,
   "metadata": {},
   "outputs": [
    {
     "data": {
      "text/plain": [
       "44100"
      ]
     },
     "execution_count": 49,
     "metadata": {},
     "output_type": "execute_result"
    }
   ],
   "source": [
    "wave_sample_rate"
   ]
  },
  {
   "cell_type": "code",
   "execution_count": 51,
   "metadata": {},
   "outputs": [
    {
     "data": {
      "text/plain": [
       "array([[   0,    0],\n",
       "       [   0,    0],\n",
       "       [   0,    0],\n",
       "       ...,\n",
       "       [-399, -115],\n",
       "       [-388, -111],\n",
       "       [-386, -105]], dtype=int16)"
      ]
     },
     "execution_count": 51,
     "metadata": {},
     "output_type": "execute_result"
    }
   ],
   "source": [
    "wave_audio"
   ]
  },
  {
   "cell_type": "code",
   "execution_count": 52,
   "metadata": {},
   "outputs": [
    {
     "data": {
      "text/plain": [
       "array([ 0.        ,  0.        ,  0.        , ..., -0.00792928,\n",
       "       -0.00775586, -0.00803613], dtype=float32)"
      ]
     },
     "execution_count": 52,
     "metadata": {},
     "output_type": "execute_result"
    }
   ],
   "source": [
    "data#libroa loaded file"
   ]
  },
  {
   "cell_type": "code",
   "execution_count": 54,
   "metadata": {},
   "outputs": [
    {
     "data": {
      "text/html": [
       "<div>\n",
       "<style scoped>\n",
       "    .dataframe tbody tr th:only-of-type {\n",
       "        vertical-align: middle;\n",
       "    }\n",
       "\n",
       "    .dataframe tbody tr th {\n",
       "        vertical-align: top;\n",
       "    }\n",
       "\n",
       "    .dataframe thead th {\n",
       "        text-align: right;\n",
       "    }\n",
       "</style>\n",
       "<table border=\"1\" class=\"dataframe\">\n",
       "  <thead>\n",
       "    <tr style=\"text-align: right;\">\n",
       "      <th></th>\n",
       "      <th>slice_file_name</th>\n",
       "      <th>fsID</th>\n",
       "      <th>start</th>\n",
       "      <th>end</th>\n",
       "      <th>salience</th>\n",
       "      <th>fold</th>\n",
       "      <th>classID</th>\n",
       "      <th>class</th>\n",
       "    </tr>\n",
       "  </thead>\n",
       "  <tbody>\n",
       "    <tr>\n",
       "      <th>0</th>\n",
       "      <td>100032-3-0-0.wav</td>\n",
       "      <td>100032</td>\n",
       "      <td>0.000000</td>\n",
       "      <td>0.317551</td>\n",
       "      <td>1</td>\n",
       "      <td>5</td>\n",
       "      <td>3</td>\n",
       "      <td>dog_bark</td>\n",
       "    </tr>\n",
       "    <tr>\n",
       "      <th>1</th>\n",
       "      <td>100263-2-0-117.wav</td>\n",
       "      <td>100263</td>\n",
       "      <td>58.500000</td>\n",
       "      <td>62.500000</td>\n",
       "      <td>1</td>\n",
       "      <td>5</td>\n",
       "      <td>2</td>\n",
       "      <td>children_playing</td>\n",
       "    </tr>\n",
       "    <tr>\n",
       "      <th>2</th>\n",
       "      <td>100263-2-0-121.wav</td>\n",
       "      <td>100263</td>\n",
       "      <td>60.500000</td>\n",
       "      <td>64.500000</td>\n",
       "      <td>1</td>\n",
       "      <td>5</td>\n",
       "      <td>2</td>\n",
       "      <td>children_playing</td>\n",
       "    </tr>\n",
       "    <tr>\n",
       "      <th>3</th>\n",
       "      <td>100263-2-0-126.wav</td>\n",
       "      <td>100263</td>\n",
       "      <td>63.000000</td>\n",
       "      <td>67.000000</td>\n",
       "      <td>1</td>\n",
       "      <td>5</td>\n",
       "      <td>2</td>\n",
       "      <td>children_playing</td>\n",
       "    </tr>\n",
       "    <tr>\n",
       "      <th>4</th>\n",
       "      <td>100263-2-0-137.wav</td>\n",
       "      <td>100263</td>\n",
       "      <td>68.500000</td>\n",
       "      <td>72.500000</td>\n",
       "      <td>1</td>\n",
       "      <td>5</td>\n",
       "      <td>2</td>\n",
       "      <td>children_playing</td>\n",
       "    </tr>\n",
       "    <tr>\n",
       "      <th>5</th>\n",
       "      <td>100263-2-0-143.wav</td>\n",
       "      <td>100263</td>\n",
       "      <td>71.500000</td>\n",
       "      <td>75.500000</td>\n",
       "      <td>1</td>\n",
       "      <td>5</td>\n",
       "      <td>2</td>\n",
       "      <td>children_playing</td>\n",
       "    </tr>\n",
       "    <tr>\n",
       "      <th>6</th>\n",
       "      <td>100263-2-0-161.wav</td>\n",
       "      <td>100263</td>\n",
       "      <td>80.500000</td>\n",
       "      <td>84.500000</td>\n",
       "      <td>1</td>\n",
       "      <td>5</td>\n",
       "      <td>2</td>\n",
       "      <td>children_playing</td>\n",
       "    </tr>\n",
       "    <tr>\n",
       "      <th>7</th>\n",
       "      <td>100263-2-0-3.wav</td>\n",
       "      <td>100263</td>\n",
       "      <td>1.500000</td>\n",
       "      <td>5.500000</td>\n",
       "      <td>1</td>\n",
       "      <td>5</td>\n",
       "      <td>2</td>\n",
       "      <td>children_playing</td>\n",
       "    </tr>\n",
       "    <tr>\n",
       "      <th>8</th>\n",
       "      <td>100263-2-0-36.wav</td>\n",
       "      <td>100263</td>\n",
       "      <td>18.000000</td>\n",
       "      <td>22.000000</td>\n",
       "      <td>1</td>\n",
       "      <td>5</td>\n",
       "      <td>2</td>\n",
       "      <td>children_playing</td>\n",
       "    </tr>\n",
       "    <tr>\n",
       "      <th>9</th>\n",
       "      <td>100648-1-0-0.wav</td>\n",
       "      <td>100648</td>\n",
       "      <td>4.823402</td>\n",
       "      <td>5.471927</td>\n",
       "      <td>2</td>\n",
       "      <td>10</td>\n",
       "      <td>1</td>\n",
       "      <td>car_horn</td>\n",
       "    </tr>\n",
       "  </tbody>\n",
       "</table>\n",
       "</div>"
      ],
      "text/plain": [
       "      slice_file_name    fsID      start        end  salience  fold  classID  \\\n",
       "0    100032-3-0-0.wav  100032   0.000000   0.317551         1     5        3   \n",
       "1  100263-2-0-117.wav  100263  58.500000  62.500000         1     5        2   \n",
       "2  100263-2-0-121.wav  100263  60.500000  64.500000         1     5        2   \n",
       "3  100263-2-0-126.wav  100263  63.000000  67.000000         1     5        2   \n",
       "4  100263-2-0-137.wav  100263  68.500000  72.500000         1     5        2   \n",
       "5  100263-2-0-143.wav  100263  71.500000  75.500000         1     5        2   \n",
       "6  100263-2-0-161.wav  100263  80.500000  84.500000         1     5        2   \n",
       "7    100263-2-0-3.wav  100263   1.500000   5.500000         1     5        2   \n",
       "8   100263-2-0-36.wav  100263  18.000000  22.000000         1     5        2   \n",
       "9    100648-1-0-0.wav  100648   4.823402   5.471927         2    10        1   \n",
       "\n",
       "              class  \n",
       "0          dog_bark  \n",
       "1  children_playing  \n",
       "2  children_playing  \n",
       "3  children_playing  \n",
       "4  children_playing  \n",
       "5  children_playing  \n",
       "6  children_playing  \n",
       "7  children_playing  \n",
       "8  children_playing  \n",
       "9          car_horn  "
      ]
     },
     "execution_count": 54,
     "metadata": {},
     "output_type": "execute_result"
    }
   ],
   "source": [
    "import pandas as pd\n",
    "metadata=pd.read_csv('UrbanSound8K/metadata/UrbanSound8k.csv')\n",
    "metadata.head(10)"
   ]
  },
  {
   "cell_type": "code",
   "execution_count": 55,
   "metadata": {},
   "outputs": [
    {
     "data": {
      "text/plain": [
       "air_conditioner     1000\n",
       "drilling            1000\n",
       "street_music        1000\n",
       "jackhammer          1000\n",
       "dog_bark            1000\n",
       "engine_idling       1000\n",
       "children_playing    1000\n",
       "siren                929\n",
       "car_horn             429\n",
       "gun_shot             374\n",
       "Name: class, dtype: int64"
      ]
     },
     "execution_count": 55,
     "metadata": {},
     "output_type": "execute_result"
    }
   ],
   "source": [
    "metadata['class'].value_counts()"
   ]
  },
  {
   "cell_type": "code",
   "execution_count": 59,
   "metadata": {},
   "outputs": [],
   "source": [
    "#Data preprocessing"
   ]
  },
  {
   "cell_type": "code",
   "execution_count": 60,
   "metadata": {},
   "outputs": [],
   "source": [
    "audio_file_path='UrbanSound8K/100032-3-0-0.wav'"
   ]
  },
  {
   "cell_type": "code",
   "execution_count": 61,
   "metadata": {},
   "outputs": [],
   "source": [
    "librosa_audio_data,librosa_sample_rate=librosa.load(audio_file_path)"
   ]
  },
  {
   "cell_type": "code",
   "execution_count": 62,
   "metadata": {},
   "outputs": [
    {
     "data": {
      "text/plain": [
       "array([-0.00346022, -0.00502555, -0.00465325, ..., -0.00248061,\n",
       "       -0.00155105, -0.0003528 ], dtype=float32)"
      ]
     },
     "execution_count": 62,
     "metadata": {},
     "output_type": "execute_result"
    }
   ],
   "source": [
    "librosa_audio_data"
   ]
  },
  {
   "cell_type": "code",
   "execution_count": 64,
   "metadata": {},
   "outputs": [
    {
     "data": {
      "text/plain": [
       "[<matplotlib.lines.Line2D at 0x235307e1b80>]"
      ]
     },
     "execution_count": 64,
     "metadata": {},
     "output_type": "execute_result"
    },
    {
     "data": {
      "image/png": "[encoded data removed]",
      "text/plain": [
       "<Figure size 1008x360 with 1 Axes>"
      ]
     },
     "metadata": {
      "needs_background": "light"
     },
     "output_type": "display_data"
    }
   ],
   "source": [
    "plt.figure(figsize=(14,5))\n",
    "plt.plot(librosa_audio_data)"
   ]
  },
  {
   "cell_type": "code",
   "execution_count": 65,
   "metadata": {},
   "outputs": [],
   "source": [
    "from scipy.io import wavfile as wav"
   ]
  },
  {
   "cell_type": "code",
   "execution_count": 66,
   "metadata": {},
   "outputs": [],
   "source": [
    "wave_sample_rate,wave_audio=wav.read(audio_file_path)"
   ]
  },
  {
   "cell_type": "code",
   "execution_count": 67,
   "metadata": {},
   "outputs": [
    {
     "data": {
      "text/plain": [
       "array([[-150, -148],\n",
       "       [-160, -157],\n",
       "       [-151, -151],\n",
       "       ...,\n",
       "       [ -19,  -24],\n",
       "       [ -14,  -18],\n",
       "       [   1,   -1]], dtype=int16)"
      ]
     },
     "execution_count": 67,
     "metadata": {},
     "output_type": "execute_result"
    }
   ],
   "source": [
    "wave_audio"
   ]
  },
  {
   "cell_type": "code",
   "execution_count": 69,
   "metadata": {
    "scrolled": true
   },
   "outputs": [
    {
     "data": {
      "text/plain": [
       "[<matplotlib.lines.Line2D at 0x23530976a60>,\n",
       " <matplotlib.lines.Line2D at 0x23530976b20>]"
      ]
     },
     "execution_count": 69,
     "metadata": {},
     "output_type": "execute_result"
    },
    {
     "data": {
      "image/png": "[encoded data removed]",
      "text/plain": [
       "<Figure size 1008x360 with 1 Axes>"
      ]
     },
     "metadata": {
      "needs_background": "light"
     },
     "output_type": "display_data"
    }
   ],
   "source": [
    "plt.figure(figsize=(14,5))\n",
    "plt.plot(wave_audio)#2 channels"
   ]
  },
  {
   "cell_type": "code",
   "execution_count": 70,
   "metadata": {},
   "outputs": [],
   "source": [
    "#Extract features -Mel Frequency epstral Coefficients\n",
    "mfccs=librosa.feature.mfcc(y=librosa_audio_data,sr=librosa_sample_rate,n_mfcc=40)"
   ]
  },
  {
   "cell_type": "code",
   "execution_count": 73,
   "metadata": {},
   "outputs": [
    {
     "data": {
      "text/plain": [
       "(40, 14)"
      ]
     },
     "execution_count": 73,
     "metadata": {},
     "output_type": "execute_result"
    }
   ],
   "source": [
    "mfccs.shape"
   ]
  },
  {
   "cell_type": "code",
   "execution_count": 74,
   "metadata": {},
   "outputs": [],
   "source": [
    "import os\n",
    "audio_dataset_path='UrbanSound8K/audio'\n",
    "metadataset=pd.read_csv('UrbanSound8K/metadata/UrbanSound8K.csv')"
   ]
  },
  {
   "cell_type": "code",
   "execution_count": 75,
   "metadata": {},
   "outputs": [
    {
     "data": {
      "text/html": [
       "<div>\n",
       "<style scoped>\n",
       "    .dataframe tbody tr th:only-of-type {\n",
       "        vertical-align: middle;\n",
       "    }\n",
       "\n",
       "    .dataframe tbody tr th {\n",
       "        vertical-align: top;\n",
       "    }\n",
       "\n",
       "    .dataframe thead th {\n",
       "        text-align: right;\n",
       "    }\n",
       "</style>\n",
       "<table border=\"1\" class=\"dataframe\">\n",
       "  <thead>\n",
       "    <tr style=\"text-align: right;\">\n",
       "      <th></th>\n",
       "      <th>slice_file_name</th>\n",
       "      <th>fsID</th>\n",
       "      <th>start</th>\n",
       "      <th>end</th>\n",
       "      <th>salience</th>\n",
       "      <th>fold</th>\n",
       "      <th>classID</th>\n",
       "      <th>class</th>\n",
       "    </tr>\n",
       "  </thead>\n",
       "  <tbody>\n",
       "    <tr>\n",
       "      <th>0</th>\n",
       "      <td>100032-3-0-0.wav</td>\n",
       "      <td>100032</td>\n",
       "      <td>0.000000</td>\n",
       "      <td>0.317551</td>\n",
       "      <td>1</td>\n",
       "      <td>5</td>\n",
       "      <td>3</td>\n",
       "      <td>dog_bark</td>\n",
       "    </tr>\n",
       "    <tr>\n",
       "      <th>1</th>\n",
       "      <td>100263-2-0-117.wav</td>\n",
       "      <td>100263</td>\n",
       "      <td>58.500000</td>\n",
       "      <td>62.500000</td>\n",
       "      <td>1</td>\n",
       "      <td>5</td>\n",
       "      <td>2</td>\n",
       "      <td>children_playing</td>\n",
       "    </tr>\n",
       "    <tr>\n",
       "      <th>2</th>\n",
       "      <td>100263-2-0-121.wav</td>\n",
       "      <td>100263</td>\n",
       "      <td>60.500000</td>\n",
       "      <td>64.500000</td>\n",
       "      <td>1</td>\n",
       "      <td>5</td>\n",
       "      <td>2</td>\n",
       "      <td>children_playing</td>\n",
       "    </tr>\n",
       "    <tr>\n",
       "      <th>3</th>\n",
       "      <td>100263-2-0-126.wav</td>\n",
       "      <td>100263</td>\n",
       "      <td>63.000000</td>\n",
       "      <td>67.000000</td>\n",
       "      <td>1</td>\n",
       "      <td>5</td>\n",
       "      <td>2</td>\n",
       "      <td>children_playing</td>\n",
       "    </tr>\n",
       "    <tr>\n",
       "      <th>4</th>\n",
       "      <td>100263-2-0-137.wav</td>\n",
       "      <td>100263</td>\n",
       "      <td>68.500000</td>\n",
       "      <td>72.500000</td>\n",
       "      <td>1</td>\n",
       "      <td>5</td>\n",
       "      <td>2</td>\n",
       "      <td>children_playing</td>\n",
       "    </tr>\n",
       "    <tr>\n",
       "      <th>...</th>\n",
       "      <td>...</td>\n",
       "      <td>...</td>\n",
       "      <td>...</td>\n",
       "      <td>...</td>\n",
       "      <td>...</td>\n",
       "      <td>...</td>\n",
       "      <td>...</td>\n",
       "      <td>...</td>\n",
       "    </tr>\n",
       "    <tr>\n",
       "      <th>8727</th>\n",
       "      <td>99812-1-2-0.wav</td>\n",
       "      <td>99812</td>\n",
       "      <td>159.522205</td>\n",
       "      <td>163.522205</td>\n",
       "      <td>2</td>\n",
       "      <td>7</td>\n",
       "      <td>1</td>\n",
       "      <td>car_horn</td>\n",
       "    </tr>\n",
       "    <tr>\n",
       "      <th>8728</th>\n",
       "      <td>99812-1-3-0.wav</td>\n",
       "      <td>99812</td>\n",
       "      <td>181.142431</td>\n",
       "      <td>183.284976</td>\n",
       "      <td>2</td>\n",
       "      <td>7</td>\n",
       "      <td>1</td>\n",
       "      <td>car_horn</td>\n",
       "    </tr>\n",
       "    <tr>\n",
       "      <th>8729</th>\n",
       "      <td>99812-1-4-0.wav</td>\n",
       "      <td>99812</td>\n",
       "      <td>242.691902</td>\n",
       "      <td>246.197885</td>\n",
       "      <td>2</td>\n",
       "      <td>7</td>\n",
       "      <td>1</td>\n",
       "      <td>car_horn</td>\n",
       "    </tr>\n",
       "    <tr>\n",
       "      <th>8730</th>\n",
       "      <td>99812-1-5-0.wav</td>\n",
       "      <td>99812</td>\n",
       "      <td>253.209850</td>\n",
       "      <td>255.741948</td>\n",
       "      <td>2</td>\n",
       "      <td>7</td>\n",
       "      <td>1</td>\n",
       "      <td>car_horn</td>\n",
       "    </tr>\n",
       "    <tr>\n",
       "      <th>8731</th>\n",
       "      <td>99812-1-6-0.wav</td>\n",
       "      <td>99812</td>\n",
       "      <td>332.289233</td>\n",
       "      <td>334.821332</td>\n",
       "      <td>2</td>\n",
       "      <td>7</td>\n",
       "      <td>1</td>\n",
       "      <td>car_horn</td>\n",
       "    </tr>\n",
       "  </tbody>\n",
       "</table>\n",
       "<p>8732 rows × 8 columns</p>\n",
       "</div>"
      ],
      "text/plain": [
       "         slice_file_name    fsID       start         end  salience  fold  \\\n",
       "0       100032-3-0-0.wav  100032    0.000000    0.317551         1     5   \n",
       "1     100263-2-0-117.wav  100263   58.500000   62.500000         1     5   \n",
       "2     100263-2-0-121.wav  100263   60.500000   64.500000         1     5   \n",
       "3     100263-2-0-126.wav  100263   63.000000   67.000000         1     5   \n",
       "4     100263-2-0-137.wav  100263   68.500000   72.500000         1     5   \n",
       "...                  ...     ...         ...         ...       ...   ...   \n",
       "8727     99812-1-2-0.wav   99812  159.522205  163.522205         2     7   \n",
       "8728     99812-1-3-0.wav   99812  181.142431  183.284976         2     7   \n",
       "8729     99812-1-4-0.wav   99812  242.691902  246.197885         2     7   \n",
       "8730     99812-1-5-0.wav   99812  253.209850  255.741948         2     7   \n",
       "8731     99812-1-6-0.wav   99812  332.289233  334.821332         2     7   \n",
       "\n",
       "      classID             class  \n",
       "0           3          dog_bark  \n",
       "1           2  children_playing  \n",
       "2           2  children_playing  \n",
       "3           2  children_playing  \n",
       "4           2  children_playing  \n",
       "...       ...               ...  \n",
       "8727        1          car_horn  \n",
       "8728        1          car_horn  \n",
       "8729        1          car_horn  \n",
       "8730        1          car_horn  \n",
       "8731        1          car_horn  \n",
       "\n",
       "[8732 rows x 8 columns]"
      ]
     },
     "execution_count": 75,
     "metadata": {},
     "output_type": "execute_result"
    }
   ],
   "source": [
    "metadataset\n"
   ]
  },
  {
   "cell_type": "code",
   "execution_count": 76,
   "metadata": {},
   "outputs": [],
   "source": [
    "def features_extractor(file):\n",
    "    audio, sample_rate = librosa.load(file_name, res_type='kaiser_fast') \n",
    "    mfccs_features = librosa.feature.mfcc(y=audio, sr=sample_rate, n_mfcc=40)\n",
    "    mfccs_scaled_features = np.mean(mfccs_features.T,axis=0)\n",
    "    \n",
    "    return mfccs_scaled_features"
   ]
  },
  {
   "cell_type": "code",
   "execution_count": 78,
   "metadata": {},
   "outputs": [
    {
     "name": "stderr",
     "output_type": "stream",
     "text": [
      "3554it [04:20, 15.02it/s]C:\\Users\\irisj\\anaconda3\\lib\\site-packages\\librosa\\core\\spectrum.py:222: UserWarning: n_fft=2048 is too small for input signal of length=1323\n",
      "  warnings.warn(\n",
      "8324it [09:48, 19.65it/s]C:\\Users\\irisj\\anaconda3\\lib\\site-packages\\librosa\\core\\spectrum.py:222: UserWarning: n_fft=2048 is too small for input signal of length=1103\n",
      "  warnings.warn(\n",
      "8329it [09:48, 23.94it/s]C:\\Users\\irisj\\anaconda3\\lib\\site-packages\\librosa\\core\\spectrum.py:222: UserWarning: n_fft=2048 is too small for input signal of length=1523\n",
      "  warnings.warn(\n",
      "8732it [10:14, 14.21it/s]\n"
     ]
    }
   ],
   "source": [
    "import numpy as np\n",
    "from tqdm import tqdm\n",
    "\n",
    "extracted_features=[]\n",
    "for index_num,row in tqdm(metadata.iterrows()):\n",
    "    file_name = os.path.join(os.path.abspath(audio_dataset_path),'fold'+str(row[\"fold\"])+'/',str(row[\"slice_file_name\"]))\n",
    "    final_class_labels=row[\"class\"]\n",
    "    data=features_extractor(file_name)\n",
    "    extracted_features.append([data,final_class_labels])"
   ]
  },
  {
   "cell_type": "code",
   "execution_count": 79,
   "metadata": {},
   "outputs": [
    {
     "data": {
      "text/html": [
       "<div>\n",
       "<style scoped>\n",
       "    .dataframe tbody tr th:only-of-type {\n",
       "        vertical-align: middle;\n",
       "    }\n",
       "\n",
       "    .dataframe tbody tr th {\n",
       "        vertical-align: top;\n",
       "    }\n",
       "\n",
       "    .dataframe thead th {\n",
       "        text-align: right;\n",
       "    }\n",
       "</style>\n",
       "<table border=\"1\" class=\"dataframe\">\n",
       "  <thead>\n",
       "    <tr style=\"text-align: right;\">\n",
       "      <th></th>\n",
       "      <th>feature</th>\n",
       "      <th>class</th>\n",
       "    </tr>\n",
       "  </thead>\n",
       "  <tbody>\n",
       "    <tr>\n",
       "      <th>0</th>\n",
       "      <td>[-215.79301, 71.66612, -131.81377, -52.091328,...</td>\n",
       "      <td>dog_bark</td>\n",
       "    </tr>\n",
       "    <tr>\n",
       "      <th>1</th>\n",
       "      <td>[-424.68677, 110.56227, -54.148235, 62.01073, ...</td>\n",
       "      <td>children_playing</td>\n",
       "    </tr>\n",
       "    <tr>\n",
       "      <th>2</th>\n",
       "      <td>[-459.56467, 122.800354, -47.92471, 53.265694,...</td>\n",
       "      <td>children_playing</td>\n",
       "    </tr>\n",
       "    <tr>\n",
       "      <th>3</th>\n",
       "      <td>[-414.55377, 102.896904, -36.66495, 54.18041, ...</td>\n",
       "      <td>children_playing</td>\n",
       "    </tr>\n",
       "    <tr>\n",
       "      <th>4</th>\n",
       "      <td>[-447.397, 115.0954, -53.809113, 61.608585, 1....</td>\n",
       "      <td>children_playing</td>\n",
       "    </tr>\n",
       "  </tbody>\n",
       "</table>\n",
       "</div>"
      ],
      "text/plain": [
       "                                             feature             class\n",
       "0  [-215.79301, 71.66612, -131.81377, -52.091328,...          dog_bark\n",
       "1  [-424.68677, 110.56227, -54.148235, 62.01073, ...  children_playing\n",
       "2  [-459.56467, 122.800354, -47.92471, 53.265694,...  children_playing\n",
       "3  [-414.55377, 102.896904, -36.66495, 54.18041, ...  children_playing\n",
       "4  [-447.397, 115.0954, -53.809113, 61.608585, 1....  children_playing"
      ]
     },
     "execution_count": 79,
     "metadata": {},
     "output_type": "execute_result"
    }
   ],
   "source": [
    "### converting extracted_features to Pandas dataframe\n",
    "extracted_features_df=pd.DataFrame(extracted_features,columns=['feature','class'])\n",
    "extracted_features_df.head()"
   ]
  },
  {
   "cell_type": "code",
   "execution_count": 80,
   "metadata": {},
   "outputs": [],
   "source": [
    "\n",
    "### Split the dataset into independent and dependent dataset\n",
    "X=np.array(extracted_features_df['feature'].tolist())\n",
    "y=np.array(extracted_features_df['class'].tolist())"
   ]
  },
  {
   "cell_type": "code",
   "execution_count": 81,
   "metadata": {},
   "outputs": [
    {
     "data": {
      "text/plain": [
       "(8732, 40)"
      ]
     },
     "execution_count": 81,
     "metadata": {},
     "output_type": "execute_result"
    }
   ],
   "source": [
    "X.shape"
   ]
  },
  {
   "cell_type": "code",
   "execution_count": 82,
   "metadata": {},
   "outputs": [
    {
     "data": {
      "text/plain": [
       "array(['dog_bark', 'children_playing', 'children_playing', ...,\n",
       "       'car_horn', 'car_horn', 'car_horn'], dtype='<U16')"
      ]
     },
     "execution_count": 82,
     "metadata": {},
     "output_type": "execute_result"
    }
   ],
   "source": [
    "y"
   ]
  },
  {
   "cell_type": "code",
   "execution_count": 83,
   "metadata": {},
   "outputs": [],
   "source": [
    "### Label Encoding\n",
    "###y=np.array(pd.get_dummies(y))\n",
    "### Label Encoder\n",
    "from tensorflow.keras.utils import to_categorical\n",
    "from sklearn.preprocessing import LabelEncoder\n",
    "labelencoder=LabelEncoder()\n",
    "y=to_categorical(labelencoder.fit_transform(y))"
   ]
  },
  {
   "cell_type": "code",
   "execution_count": 84,
   "metadata": {},
   "outputs": [
    {
     "data": {
      "text/plain": [
       "array([[0., 0., 0., ..., 0., 0., 0.],\n",
       "       [0., 0., 1., ..., 0., 0., 0.],\n",
       "       [0., 0., 1., ..., 0., 0., 0.],\n",
       "       ...,\n",
       "       [0., 1., 0., ..., 0., 0., 0.],\n",
       "       [0., 1., 0., ..., 0., 0., 0.],\n",
       "       [0., 1., 0., ..., 0., 0., 0.]], dtype=float32)"
      ]
     },
     "execution_count": 84,
     "metadata": {},
     "output_type": "execute_result"
    }
   ],
   "source": [
    "y"
   ]
  },
  {
   "cell_type": "code",
   "execution_count": 85,
   "metadata": {},
   "outputs": [],
   "source": [
    "### Train Test Split\n",
    "from sklearn.model_selection import train_test_split\n",
    "X_train,X_test,y_train,y_test=train_test_split(X,y,test_size=0.2,random_state=0)"
   ]
  },
  {
   "cell_type": "code",
   "execution_count": 86,
   "metadata": {},
   "outputs": [
    {
     "name": "stdout",
     "output_type": "stream",
     "text": [
      "2.5.0\n"
     ]
    }
   ],
   "source": [
    "\n",
    "import tensorflow as tf\n",
    "print(tf.__version__)"
   ]
  },
  {
   "cell_type": "code",
   "execution_count": 87,
   "metadata": {},
   "outputs": [],
   "source": [
    "\n",
    "from tensorflow.keras.models import Sequential\n",
    "from tensorflow.keras.layers import Dense,Dropout,Activation,Flatten\n",
    "from tensorflow.keras.optimizers import Adam\n",
    "from sklearn import metrics"
   ]
  },
  {
   "cell_type": "code",
   "execution_count": 88,
   "metadata": {},
   "outputs": [],
   "source": [
    "\n",
    "### No of classes\n",
    "num_labels=y.shape[1]"
   ]
  },
  {
   "cell_type": "code",
   "execution_count": 89,
   "metadata": {},
   "outputs": [],
   "source": [
    "\n",
    "model=Sequential()\n",
    "###first layer\n",
    "model.add(Dense(100,input_shape=(40,)))\n",
    "model.add(Activation('relu'))\n",
    "model.add(Dropout(0.5))\n",
    "###second layer\n",
    "model.add(Dense(200))\n",
    "model.add(Activation('relu'))\n",
    "model.add(Dropout(0.5))\n",
    "###third layer\n",
    "model.add(Dense(100))\n",
    "model.add(Activation('relu'))\n",
    "model.add(Dropout(0.5))\n",
    "\n",
    "###final layer\n",
    "model.add(Dense(num_labels))\n",
    "model.add(Activation('softmax'))"
   ]
  },
  {
   "cell_type": "code",
   "execution_count": 91,
   "metadata": {},
   "outputs": [
    {
     "name": "stdout",
     "output_type": "stream",
     "text": [
      "Model: \"sequential\"\n",
      "_________________________________________________________________\n",
      "Layer (type)                 Output Shape              Param #   \n",
      "=================================================================\n",
      "dense (Dense)                (None, 100)               4100      \n",
      "_________________________________________________________________\n",
      "activation (Activation)      (None, 100)               0         \n",
      "_________________________________________________________________\n",
      "dropout (Dropout)            (None, 100)               0         \n",
      "_________________________________________________________________\n",
      "dense_1 (Dense)              (None, 200)               20200     \n",
      "_________________________________________________________________\n",
      "activation_1 (Activation)    (None, 200)               0         \n",
      "_________________________________________________________________\n",
      "dropout_1 (Dropout)          (None, 200)               0         \n",
      "_________________________________________________________________\n",
      "dense_2 (Dense)              (None, 100)               20100     \n",
      "_________________________________________________________________\n",
      "activation_2 (Activation)    (None, 100)               0         \n",
      "_________________________________________________________________\n",
      "dropout_2 (Dropout)          (None, 100)               0         \n",
      "_________________________________________________________________\n",
      "dense_3 (Dense)              (None, 10)                1010      \n",
      "_________________________________________________________________\n",
      "activation_3 (Activation)    (None, 10)                0         \n",
      "=================================================================\n",
      "Total params: 45,410\n",
      "Trainable params: 45,410\n",
      "Non-trainable params: 0\n",
      "_________________________________________________________________\n"
     ]
    }
   ],
   "source": [
    "\n",
    "model.summary()"
   ]
  },
  {
   "cell_type": "code",
   "execution_count": 93,
   "metadata": {},
   "outputs": [],
   "source": [
    "\n",
    "model.compile(loss='categorical_crossentropy',metrics=['accuracy'],optimizer='adam')"
   ]
  },
  {
   "cell_type": "code",
   "execution_count": 94,
   "metadata": {},
   "outputs": [
    {
     "name": "stdout",
     "output_type": "stream",
     "text": [
      "Epoch 1/100\n",
      "219/219 [==============================] - 1s 4ms/step - loss: 9.0743 - accuracy: 0.1203 - val_loss: 2.2929 - val_accuracy: 0.1070\n",
      "\n",
      "Epoch 00001: val_loss improved from inf to 2.29285, saving model to saved_models\\audio_classification.hdf5\n",
      "Epoch 2/100\n",
      "219/219 [==============================] - 1s 2ms/step - loss: 2.5196 - accuracy: 0.1234 - val_loss: 2.2814 - val_accuracy: 0.1070\n",
      "\n",
      "Epoch 00002: val_loss improved from 2.29285 to 2.28140, saving model to saved_models\\audio_classification.hdf5\n",
      "Epoch 3/100\n",
      "219/219 [==============================] - 1s 2ms/step - loss: 2.3353 - accuracy: 0.1168 - val_loss: 2.2749 - val_accuracy: 0.1070\n",
      "\n",
      "Epoch 00003: val_loss improved from 2.28140 to 2.27487, saving model to saved_models\\audio_classification.hdf5\n",
      "Epoch 4/100\n",
      "219/219 [==============================] - 1s 2ms/step - loss: 2.2904 - accuracy: 0.1152 - val_loss: 2.2715 - val_accuracy: 0.1070\n",
      "\n",
      "Epoch 00004: val_loss improved from 2.27487 to 2.27155, saving model to saved_models\\audio_classification.hdf5\n",
      "Epoch 5/100\n",
      "219/219 [==============================] - 1s 3ms/step - loss: 2.2728 - accuracy: 0.1197 - val_loss: 2.2620 - val_accuracy: 0.1191\n",
      "\n",
      "Epoch 00005: val_loss improved from 2.27155 to 2.26199, saving model to saved_models\\audio_classification.hdf5\n",
      "Epoch 6/100\n",
      "219/219 [==============================] - 1s 2ms/step - loss: 2.2539 - accuracy: 0.1300 - val_loss: 2.2290 - val_accuracy: 0.1414\n",
      "\n",
      "Epoch 00006: val_loss improved from 2.26199 to 2.22900, saving model to saved_models\\audio_classification.hdf5\n",
      "Epoch 7/100\n",
      "219/219 [==============================] - 1s 2ms/step - loss: 2.2313 - accuracy: 0.1526 - val_loss: 2.1860 - val_accuracy: 0.1981\n",
      "\n",
      "Epoch 00007: val_loss improved from 2.22900 to 2.18597, saving model to saved_models\\audio_classification.hdf5\n",
      "Epoch 8/100\n",
      "219/219 [==============================] - 1s 3ms/step - loss: 2.1667 - accuracy: 0.1771 - val_loss: 2.0534 - val_accuracy: 0.2295\n",
      "\n",
      "Epoch 00008: val_loss improved from 2.18597 to 2.05336, saving model to saved_models\\audio_classification.hdf5\n",
      "Epoch 9/100\n",
      "219/219 [==============================] - 1s 3ms/step - loss: 2.1358 - accuracy: 0.1916 - val_loss: 2.0223 - val_accuracy: 0.2433\n",
      "\n",
      "Epoch 00009: val_loss improved from 2.05336 to 2.02226, saving model to saved_models\\audio_classification.hdf5\n",
      "Epoch 10/100\n",
      "219/219 [==============================] - 1s 2ms/step - loss: 2.1045 - accuracy: 0.2044 - val_loss: 1.9907 - val_accuracy: 0.2862\n",
      "\n",
      "Epoch 00010: val_loss improved from 2.02226 to 1.99074, saving model to saved_models\\audio_classification.hdf5\n",
      "Epoch 11/100\n",
      "219/219 [==============================] - 1s 2ms/step - loss: 2.0668 - accuracy: 0.2183 - val_loss: 1.9647 - val_accuracy: 0.2725\n",
      "\n",
      "Epoch 00011: val_loss improved from 1.99074 to 1.96469, saving model to saved_models\\audio_classification.hdf5\n",
      "Epoch 12/100\n",
      "219/219 [==============================] - 1s 2ms/step - loss: 2.0228 - accuracy: 0.2385 - val_loss: 1.8774 - val_accuracy: 0.3108\n",
      "\n",
      "Epoch 00012: val_loss improved from 1.96469 to 1.87737, saving model to saved_models\\audio_classification.hdf5\n",
      "Epoch 13/100\n",
      "219/219 [==============================] - 1s 2ms/step - loss: 1.9966 - accuracy: 0.2498 - val_loss: 1.8651 - val_accuracy: 0.3337\n",
      "\n",
      "Epoch 00013: val_loss improved from 1.87737 to 1.86506, saving model to saved_models\\audio_classification.hdf5\n",
      "Epoch 14/100\n",
      "219/219 [==============================] - 0s 2ms/step - loss: 1.9434 - accuracy: 0.2756 - val_loss: 1.7827 - val_accuracy: 0.3766\n",
      "\n",
      "Epoch 00014: val_loss improved from 1.86506 to 1.78273, saving model to saved_models\\audio_classification.hdf5\n",
      "Epoch 15/100\n",
      "219/219 [==============================] - 1s 2ms/step - loss: 1.8880 - accuracy: 0.3015 - val_loss: 1.7067 - val_accuracy: 0.3887\n",
      "\n",
      "Epoch 00015: val_loss improved from 1.78273 to 1.70673, saving model to saved_models\\audio_classification.hdf5\n",
      "Epoch 16/100\n",
      "219/219 [==============================] - 0s 2ms/step - loss: 1.8419 - accuracy: 0.3181 - val_loss: 1.6448 - val_accuracy: 0.4167\n",
      "\n",
      "Epoch 00016: val_loss improved from 1.70673 to 1.64484, saving model to saved_models\\audio_classification.hdf5\n",
      "Epoch 17/100\n",
      "219/219 [==============================] - 1s 2ms/step - loss: 1.7673 - accuracy: 0.3579 - val_loss: 1.5593 - val_accuracy: 0.4562\n",
      "\n",
      "Epoch 00017: val_loss improved from 1.64484 to 1.55930, saving model to saved_models\\audio_classification.hdf5\n",
      "Epoch 18/100\n",
      "219/219 [==============================] - 1s 2ms/step - loss: 1.7276 - accuracy: 0.3834 - val_loss: 1.5528 - val_accuracy: 0.4637\n",
      "\n",
      "Epoch 00018: val_loss improved from 1.55930 to 1.55279, saving model to saved_models\\audio_classification.hdf5\n",
      "Epoch 19/100\n",
      "219/219 [==============================] - 0s 2ms/step - loss: 1.6727 - accuracy: 0.4072 - val_loss: 1.4922 - val_accuracy: 0.5026\n",
      "\n",
      "Epoch 00019: val_loss improved from 1.55279 to 1.49220, saving model to saved_models\\audio_classification.hdf5\n",
      "Epoch 20/100\n",
      "219/219 [==============================] - 1s 2ms/step - loss: 1.6690 - accuracy: 0.4132 - val_loss: 1.4548 - val_accuracy: 0.5152\n",
      "\n",
      "Epoch 00020: val_loss improved from 1.49220 to 1.45476, saving model to saved_models\\audio_classification.hdf5\n",
      "Epoch 21/100\n",
      "219/219 [==============================] - 1s 2ms/step - loss: 1.6212 - accuracy: 0.4336 - val_loss: 1.4239 - val_accuracy: 0.5421\n",
      "\n",
      "Epoch 00021: val_loss improved from 1.45476 to 1.42393, saving model to saved_models\\audio_classification.hdf5\n",
      "Epoch 22/100\n",
      "219/219 [==============================] - 1s 2ms/step - loss: 1.5665 - accuracy: 0.4576 - val_loss: 1.3519 - val_accuracy: 0.5467\n",
      "\n",
      "Epoch 00022: val_loss improved from 1.42393 to 1.35194, saving model to saved_models\\audio_classification.hdf5\n",
      "Epoch 23/100\n",
      "219/219 [==============================] - 1s 3ms/step - loss: 1.5397 - accuracy: 0.4567 - val_loss: 1.3425 - val_accuracy: 0.5707\n",
      "\n",
      "Epoch 00023: val_loss improved from 1.35194 to 1.34248, saving model to saved_models\\audio_classification.hdf5\n",
      "Epoch 24/100\n",
      "219/219 [==============================] - 0s 2ms/step - loss: 1.5209 - accuracy: 0.4691 - val_loss: 1.3012 - val_accuracy: 0.5902\n",
      "\n",
      "Epoch 00024: val_loss improved from 1.34248 to 1.30122, saving model to saved_models\\audio_classification.hdf5\n",
      "Epoch 25/100\n",
      "219/219 [==============================] - 1s 3ms/step - loss: 1.4926 - accuracy: 0.4906 - val_loss: 1.2701 - val_accuracy: 0.5833\n",
      "\n",
      "Epoch 00025: val_loss improved from 1.30122 to 1.27010, saving model to saved_models\\audio_classification.hdf5\n",
      "Epoch 26/100\n",
      "219/219 [==============================] - 0s 2ms/step - loss: 1.4484 - accuracy: 0.5021 - val_loss: 1.2381 - val_accuracy: 0.6171\n",
      "\n",
      "Epoch 00026: val_loss improved from 1.27010 to 1.23811, saving model to saved_models\\audio_classification.hdf5\n",
      "Epoch 27/100\n",
      "219/219 [==============================] - 1s 2ms/step - loss: 1.4273 - accuracy: 0.5097 - val_loss: 1.2268 - val_accuracy: 0.5947\n",
      "\n",
      "Epoch 00027: val_loss improved from 1.23811 to 1.22675, saving model to saved_models\\audio_classification.hdf5\n",
      "Epoch 28/100\n",
      "219/219 [==============================] - 1s 2ms/step - loss: 1.4042 - accuracy: 0.5225 - val_loss: 1.1642 - val_accuracy: 0.6342\n",
      "\n",
      "Epoch 00028: val_loss improved from 1.22675 to 1.16420, saving model to saved_models\\audio_classification.hdf5\n",
      "Epoch 29/100\n",
      "219/219 [==============================] - 1s 2ms/step - loss: 1.3786 - accuracy: 0.5306 - val_loss: 1.1621 - val_accuracy: 0.6314\n",
      "\n",
      "Epoch 00029: val_loss improved from 1.16420 to 1.16214, saving model to saved_models\\audio_classification.hdf5\n",
      "Epoch 30/100\n",
      "219/219 [==============================] - 1s 2ms/step - loss: 1.3580 - accuracy: 0.5331 - val_loss: 1.1427 - val_accuracy: 0.6394\n",
      "\n",
      "Epoch 00030: val_loss improved from 1.16214 to 1.14270, saving model to saved_models\\audio_classification.hdf5\n",
      "Epoch 31/100\n",
      "219/219 [==============================] - 1s 2ms/step - loss: 1.3337 - accuracy: 0.5467 - val_loss: 1.1305 - val_accuracy: 0.6400\n",
      "\n",
      "Epoch 00031: val_loss improved from 1.14270 to 1.13048, saving model to saved_models\\audio_classification.hdf5\n",
      "Epoch 32/100\n",
      "219/219 [==============================] - 1s 2ms/step - loss: 1.3196 - accuracy: 0.5520 - val_loss: 1.1078 - val_accuracy: 0.6463\n",
      "\n",
      "Epoch 00032: val_loss improved from 1.13048 to 1.10780, saving model to saved_models\\audio_classification.hdf5\n",
      "Epoch 33/100\n",
      "219/219 [==============================] - 1s 2ms/step - loss: 1.3158 - accuracy: 0.5572 - val_loss: 1.1040 - val_accuracy: 0.6451\n",
      "\n",
      "Epoch 00033: val_loss improved from 1.10780 to 1.10400, saving model to saved_models\\audio_classification.hdf5\n",
      "Epoch 34/100\n",
      "219/219 [==============================] - 0s 2ms/step - loss: 1.2906 - accuracy: 0.5591 - val_loss: 1.0778 - val_accuracy: 0.6445\n",
      "\n",
      "Epoch 00034: val_loss improved from 1.10400 to 1.07781, saving model to saved_models\\audio_classification.hdf5\n",
      "Epoch 35/100\n",
      "219/219 [==============================] - 1s 2ms/step - loss: 1.2693 - accuracy: 0.5692 - val_loss: 1.0742 - val_accuracy: 0.6600\n",
      "\n",
      "Epoch 00035: val_loss improved from 1.07781 to 1.07421, saving model to saved_models\\audio_classification.hdf5\n",
      "Epoch 36/100\n",
      "219/219 [==============================] - 0s 2ms/step - loss: 1.2636 - accuracy: 0.5747 - val_loss: 1.0375 - val_accuracy: 0.6594\n",
      "\n",
      "Epoch 00036: val_loss improved from 1.07421 to 1.03750, saving model to saved_models\\audio_classification.hdf5\n",
      "Epoch 37/100\n",
      "219/219 [==============================] - 1s 3ms/step - loss: 1.2397 - accuracy: 0.5811 - val_loss: 1.0377 - val_accuracy: 0.6754\n",
      "\n",
      "Epoch 00037: val_loss did not improve from 1.03750\n",
      "Epoch 38/100\n",
      "219/219 [==============================] - 1s 2ms/step - loss: 1.2364 - accuracy: 0.5782 - val_loss: 1.0525 - val_accuracy: 0.6634\n",
      "\n",
      "Epoch 00038: val_loss did not improve from 1.03750\n",
      "Epoch 39/100\n",
      "219/219 [==============================] - 1s 2ms/step - loss: 1.2049 - accuracy: 0.5865 - val_loss: 1.0224 - val_accuracy: 0.6829\n",
      "\n",
      "Epoch 00039: val_loss improved from 1.03750 to 1.02243, saving model to saved_models\\audio_classification.hdf5\n",
      "Epoch 40/100\n",
      "219/219 [==============================] - 0s 2ms/step - loss: 1.2116 - accuracy: 0.5943 - val_loss: 1.0424 - val_accuracy: 0.6651\n",
      "\n",
      "Epoch 00040: val_loss did not improve from 1.02243\n",
      "Epoch 41/100\n",
      "219/219 [==============================] - 1s 2ms/step - loss: 1.1824 - accuracy: 0.6021 - val_loss: 0.9895 - val_accuracy: 0.6915\n",
      "\n",
      "Epoch 00041: val_loss improved from 1.02243 to 0.98946, saving model to saved_models\\audio_classification.hdf5\n",
      "Epoch 42/100\n",
      "219/219 [==============================] - 1s 2ms/step - loss: 1.2034 - accuracy: 0.5973 - val_loss: 1.0083 - val_accuracy: 0.6840\n",
      "\n",
      "Epoch 00042: val_loss did not improve from 0.98946\n",
      "Epoch 43/100\n",
      "219/219 [==============================] - 1s 2ms/step - loss: 1.1748 - accuracy: 0.6097 - val_loss: 0.9809 - val_accuracy: 0.6817\n",
      "\n",
      "Epoch 00043: val_loss improved from 0.98946 to 0.98086, saving model to saved_models\\audio_classification.hdf5\n",
      "Epoch 44/100\n",
      "219/219 [==============================] - 1s 3ms/step - loss: 1.1808 - accuracy: 0.6043 - val_loss: 0.9731 - val_accuracy: 0.6835\n",
      "\n",
      "Epoch 00044: val_loss improved from 0.98086 to 0.97309, saving model to saved_models\\audio_classification.hdf5\n",
      "Epoch 45/100\n",
      "219/219 [==============================] - 1s 2ms/step - loss: 1.1712 - accuracy: 0.6100 - val_loss: 0.9619 - val_accuracy: 0.6915\n",
      "\n",
      "Epoch 00045: val_loss improved from 0.97309 to 0.96188, saving model to saved_models\\audio_classification.hdf5\n",
      "Epoch 46/100\n",
      "219/219 [==============================] - 1s 2ms/step - loss: 1.1475 - accuracy: 0.6147 - val_loss: 0.9693 - val_accuracy: 0.6909\n",
      "\n",
      "Epoch 00046: val_loss did not improve from 0.96188\n",
      "Epoch 47/100\n",
      "219/219 [==============================] - 0s 2ms/step - loss: 1.1577 - accuracy: 0.6100 - val_loss: 0.9688 - val_accuracy: 0.6978\n",
      "\n",
      "Epoch 00047: val_loss did not improve from 0.96188\n",
      "Epoch 48/100\n",
      "219/219 [==============================] - 1s 2ms/step - loss: 1.1506 - accuracy: 0.6162 - val_loss: 0.9653 - val_accuracy: 0.6915\n",
      "\n",
      "Epoch 00048: val_loss did not improve from 0.96188\n",
      "Epoch 49/100\n",
      "219/219 [==============================] - 1s 2ms/step - loss: 1.1376 - accuracy: 0.6185 - val_loss: 0.9381 - val_accuracy: 0.6966\n",
      "\n",
      "Epoch 00049: val_loss improved from 0.96188 to 0.93810, saving model to saved_models\\audio_classification.hdf5\n",
      "Epoch 50/100\n",
      "219/219 [==============================] - 0s 2ms/step - loss: 1.1329 - accuracy: 0.6253 - val_loss: 0.9286 - val_accuracy: 0.6983\n",
      "\n",
      "Epoch 00050: val_loss improved from 0.93810 to 0.92860, saving model to saved_models\\audio_classification.hdf5\n",
      "Epoch 51/100\n",
      "219/219 [==============================] - 1s 3ms/step - loss: 1.1058 - accuracy: 0.6245 - val_loss: 0.8969 - val_accuracy: 0.7121\n",
      "\n",
      "Epoch 00051: val_loss improved from 0.92860 to 0.89694, saving model to saved_models\\audio_classification.hdf5\n",
      "Epoch 52/100\n",
      "219/219 [==============================] - 1s 3ms/step - loss: 1.1254 - accuracy: 0.6251 - val_loss: 0.9169 - val_accuracy: 0.6989\n",
      "\n",
      "Epoch 00052: val_loss did not improve from 0.89694\n",
      "Epoch 53/100\n",
      "219/219 [==============================] - 0s 2ms/step - loss: 1.0872 - accuracy: 0.6389 - val_loss: 0.9018 - val_accuracy: 0.7132\n",
      "\n",
      "Epoch 00053: val_loss did not improve from 0.89694\n",
      "Epoch 54/100\n",
      "219/219 [==============================] - 0s 2ms/step - loss: 1.0796 - accuracy: 0.6411 - val_loss: 0.8838 - val_accuracy: 0.7161\n",
      "\n",
      "Epoch 00054: val_loss improved from 0.89694 to 0.88375, saving model to saved_models\\audio_classification.hdf5\n",
      "Epoch 55/100\n",
      "219/219 [==============================] - 1s 2ms/step - loss: 1.0826 - accuracy: 0.6341 - val_loss: 0.8727 - val_accuracy: 0.7270\n",
      "\n",
      "Epoch 00055: val_loss improved from 0.88375 to 0.87272, saving model to saved_models\\audio_classification.hdf5\n",
      "Epoch 56/100\n",
      "219/219 [==============================] - 1s 2ms/step - loss: 1.0738 - accuracy: 0.6388 - val_loss: 0.8845 - val_accuracy: 0.7172\n",
      "\n",
      "Epoch 00056: val_loss did not improve from 0.87272\n",
      "Epoch 57/100\n",
      "219/219 [==============================] - 1s 2ms/step - loss: 1.0754 - accuracy: 0.6465 - val_loss: 0.9022 - val_accuracy: 0.7069\n",
      "\n",
      "Epoch 00057: val_loss did not improve from 0.87272\n",
      "Epoch 58/100\n",
      "219/219 [==============================] - 0s 2ms/step - loss: 1.0768 - accuracy: 0.6411 - val_loss: 0.8919 - val_accuracy: 0.7161\n",
      "\n",
      "Epoch 00058: val_loss did not improve from 0.87272\n",
      "Epoch 59/100\n",
      "219/219 [==============================] - 0s 2ms/step - loss: 1.0717 - accuracy: 0.6452 - val_loss: 0.8559 - val_accuracy: 0.7390\n",
      "\n",
      "Epoch 00059: val_loss improved from 0.87272 to 0.85588, saving model to saved_models\\audio_classification.hdf5\n",
      "Epoch 60/100\n",
      "219/219 [==============================] - 1s 2ms/step - loss: 1.0565 - accuracy: 0.6511 - val_loss: 0.8786 - val_accuracy: 0.7172\n",
      "\n",
      "Epoch 00060: val_loss did not improve from 0.85588\n",
      "Epoch 61/100\n",
      "219/219 [==============================] - 1s 2ms/step - loss: 1.0389 - accuracy: 0.6557 - val_loss: 0.8538 - val_accuracy: 0.7218\n",
      "\n",
      "Epoch 00061: val_loss improved from 0.85588 to 0.85378, saving model to saved_models\\audio_classification.hdf5\n",
      "Epoch 62/100\n",
      "219/219 [==============================] - 1s 2ms/step - loss: 1.0281 - accuracy: 0.6544 - val_loss: 0.8493 - val_accuracy: 0.7310\n",
      "\n",
      "Epoch 00062: val_loss improved from 0.85378 to 0.84928, saving model to saved_models\\audio_classification.hdf5\n",
      "Epoch 63/100\n",
      "219/219 [==============================] - 1s 3ms/step - loss: 1.0378 - accuracy: 0.6494 - val_loss: 0.8341 - val_accuracy: 0.7378\n",
      "\n",
      "Epoch 00063: val_loss improved from 0.84928 to 0.83409, saving model to saved_models\\audio_classification.hdf5\n",
      "Epoch 64/100\n",
      "219/219 [==============================] - 1s 2ms/step - loss: 1.0449 - accuracy: 0.6490 - val_loss: 0.8514 - val_accuracy: 0.7350\n",
      "\n",
      "Epoch 00064: val_loss did not improve from 0.83409\n",
      "Epoch 65/100\n",
      "219/219 [==============================] - 1s 2ms/step - loss: 1.0435 - accuracy: 0.6531 - val_loss: 0.8336 - val_accuracy: 0.7378\n",
      "\n",
      "Epoch 00065: val_loss improved from 0.83409 to 0.83358, saving model to saved_models\\audio_classification.hdf5\n",
      "Epoch 66/100\n",
      "219/219 [==============================] - 1s 2ms/step - loss: 1.0164 - accuracy: 0.6583 - val_loss: 0.8124 - val_accuracy: 0.7436\n",
      "\n",
      "Epoch 00066: val_loss improved from 0.83358 to 0.81245, saving model to saved_models\\audio_classification.hdf5\n",
      "Epoch 67/100\n",
      "219/219 [==============================] - 1s 3ms/step - loss: 1.0149 - accuracy: 0.6634 - val_loss: 0.8046 - val_accuracy: 0.7441\n",
      "\n",
      "Epoch 00067: val_loss improved from 0.81245 to 0.80464, saving model to saved_models\\audio_classification.hdf5\n",
      "Epoch 68/100\n",
      "219/219 [==============================] - 1s 3ms/step - loss: 1.0343 - accuracy: 0.6534 - val_loss: 0.8438 - val_accuracy: 0.7304\n",
      "\n",
      "Epoch 00068: val_loss did not improve from 0.80464\n",
      "Epoch 69/100\n",
      "219/219 [==============================] - 1s 3ms/step - loss: 1.0287 - accuracy: 0.6550 - val_loss: 0.8305 - val_accuracy: 0.7321\n",
      "\n",
      "Epoch 00069: val_loss did not improve from 0.80464\n",
      "Epoch 70/100\n",
      "219/219 [==============================] - 1s 2ms/step - loss: 1.0133 - accuracy: 0.6630 - val_loss: 0.8259 - val_accuracy: 0.7287\n",
      "\n",
      "Epoch 00070: val_loss did not improve from 0.80464\n",
      "Epoch 71/100\n",
      "219/219 [==============================] - 1s 3ms/step - loss: 1.0100 - accuracy: 0.6581 - val_loss: 0.8561 - val_accuracy: 0.7224\n",
      "\n",
      "Epoch 00071: val_loss did not improve from 0.80464\n",
      "Epoch 72/100\n",
      "219/219 [==============================] - 1s 2ms/step - loss: 1.0039 - accuracy: 0.6654 - val_loss: 0.8003 - val_accuracy: 0.7430\n",
      "\n",
      "Epoch 00072: val_loss improved from 0.80464 to 0.80029, saving model to saved_models\\audio_classification.hdf5\n",
      "Epoch 73/100\n",
      "219/219 [==============================] - 1s 2ms/step - loss: 1.0009 - accuracy: 0.6647 - val_loss: 0.7949 - val_accuracy: 0.7459\n",
      "\n",
      "Epoch 00073: val_loss improved from 0.80029 to 0.79486, saving model to saved_models\\audio_classification.hdf5\n",
      "Epoch 74/100\n",
      "219/219 [==============================] - 1s 3ms/step - loss: 1.0158 - accuracy: 0.6663 - val_loss: 0.8285 - val_accuracy: 0.7373\n",
      "\n",
      "Epoch 00074: val_loss did not improve from 0.79486\n",
      "Epoch 75/100\n",
      "219/219 [==============================] - 1s 3ms/step - loss: 0.9806 - accuracy: 0.6770 - val_loss: 0.7822 - val_accuracy: 0.7539\n",
      "\n",
      "Epoch 00075: val_loss improved from 0.79486 to 0.78218, saving model to saved_models\\audio_classification.hdf5\n",
      "Epoch 76/100\n",
      "219/219 [==============================] - 1s 2ms/step - loss: 1.0215 - accuracy: 0.6651 - val_loss: 0.8191 - val_accuracy: 0.7321\n",
      "\n",
      "Epoch 00076: val_loss did not improve from 0.78218\n",
      "Epoch 77/100\n",
      "219/219 [==============================] - 1s 2ms/step - loss: 0.9819 - accuracy: 0.6719 - val_loss: 0.7879 - val_accuracy: 0.7556\n",
      "\n",
      "Epoch 00077: val_loss did not improve from 0.78218\n",
      "Epoch 78/100\n",
      "219/219 [==============================] - 0s 2ms/step - loss: 0.9655 - accuracy: 0.6810 - val_loss: 0.7912 - val_accuracy: 0.7459\n",
      "\n",
      "Epoch 00078: val_loss did not improve from 0.78218\n",
      "Epoch 79/100\n",
      "219/219 [==============================] - 1s 2ms/step - loss: 0.9854 - accuracy: 0.6743 - val_loss: 0.7901 - val_accuracy: 0.7493\n",
      "\n",
      "Epoch 00079: val_loss did not improve from 0.78218\n",
      "Epoch 80/100\n",
      "219/219 [==============================] - 0s 2ms/step - loss: 0.9903 - accuracy: 0.6669 - val_loss: 0.8072 - val_accuracy: 0.7401\n",
      "\n",
      "Epoch 00080: val_loss did not improve from 0.78218\n",
      "Epoch 81/100\n",
      "219/219 [==============================] - 0s 2ms/step - loss: 0.9805 - accuracy: 0.6710 - val_loss: 0.8050 - val_accuracy: 0.7567\n",
      "\n",
      "Epoch 00081: val_loss did not improve from 0.78218\n",
      "Epoch 82/100\n",
      "219/219 [==============================] - 0s 2ms/step - loss: 0.9957 - accuracy: 0.6807 - val_loss: 0.7899 - val_accuracy: 0.7470\n",
      "\n",
      "Epoch 00082: val_loss did not improve from 0.78218\n",
      "Epoch 83/100\n",
      "219/219 [==============================] - 0s 2ms/step - loss: 0.9792 - accuracy: 0.6714 - val_loss: 0.7874 - val_accuracy: 0.7590\n",
      "\n",
      "Epoch 00083: val_loss did not improve from 0.78218\n",
      "Epoch 84/100\n",
      "219/219 [==============================] - 1s 3ms/step - loss: 1.0024 - accuracy: 0.6666 - val_loss: 0.8145 - val_accuracy: 0.7510\n",
      "\n",
      "Epoch 00084: val_loss did not improve from 0.78218\n",
      "Epoch 85/100\n",
      "219/219 [==============================] - 1s 2ms/step - loss: 0.9781 - accuracy: 0.6764 - val_loss: 0.8075 - val_accuracy: 0.7453\n",
      "\n",
      "Epoch 00085: val_loss did not improve from 0.78218\n",
      "Epoch 86/100\n",
      "219/219 [==============================] - 1s 2ms/step - loss: 0.9892 - accuracy: 0.6712 - val_loss: 0.7891 - val_accuracy: 0.7567\n",
      "\n",
      "Epoch 00086: val_loss did not improve from 0.78218\n",
      "Epoch 87/100\n",
      "219/219 [==============================] - 1s 3ms/step - loss: 0.9806 - accuracy: 0.6793 - val_loss: 0.7760 - val_accuracy: 0.7630\n",
      "\n",
      "Epoch 00087: val_loss improved from 0.78218 to 0.77595, saving model to saved_models\\audio_classification.hdf5\n",
      "Epoch 88/100\n",
      "219/219 [==============================] - 1s 2ms/step - loss: 0.9499 - accuracy: 0.6835 - val_loss: 0.7646 - val_accuracy: 0.7550\n",
      "\n",
      "Epoch 00088: val_loss improved from 0.77595 to 0.76464, saving model to saved_models\\audio_classification.hdf5\n",
      "Epoch 89/100\n",
      "219/219 [==============================] - 1s 3ms/step - loss: 0.9603 - accuracy: 0.6853 - val_loss: 0.7662 - val_accuracy: 0.7584\n",
      "\n",
      "Epoch 00089: val_loss did not improve from 0.76464\n",
      "Epoch 90/100\n",
      "219/219 [==============================] - 1s 2ms/step - loss: 0.9595 - accuracy: 0.6809 - val_loss: 0.7692 - val_accuracy: 0.7624\n",
      "\n",
      "Epoch 00090: val_loss did not improve from 0.76464\n",
      "Epoch 91/100\n",
      "219/219 [==============================] - 1s 2ms/step - loss: 0.9554 - accuracy: 0.6819 - val_loss: 0.7611 - val_accuracy: 0.7624\n",
      "\n",
      "Epoch 00091: val_loss improved from 0.76464 to 0.76113, saving model to saved_models\\audio_classification.hdf5\n",
      "Epoch 92/100\n",
      "219/219 [==============================] - 1s 2ms/step - loss: 0.9568 - accuracy: 0.6796 - val_loss: 0.7623 - val_accuracy: 0.7659\n",
      "\n",
      "Epoch 00092: val_loss did not improve from 0.76113\n",
      "Epoch 93/100\n",
      "219/219 [==============================] - 0s 2ms/step - loss: 0.9569 - accuracy: 0.6785 - val_loss: 0.7806 - val_accuracy: 0.7521\n",
      "\n",
      "Epoch 00093: val_loss did not improve from 0.76113\n",
      "Epoch 94/100\n",
      "219/219 [==============================] - 1s 2ms/step - loss: 0.9705 - accuracy: 0.6856 - val_loss: 0.7694 - val_accuracy: 0.7573\n",
      "\n",
      "Epoch 00094: val_loss did not improve from 0.76113\n",
      "Epoch 95/100\n",
      "219/219 [==============================] - 1s 2ms/step - loss: 0.9609 - accuracy: 0.6835 - val_loss: 0.7568 - val_accuracy: 0.7636\n",
      "\n",
      "Epoch 00095: val_loss improved from 0.76113 to 0.75676, saving model to saved_models\\audio_classification.hdf5\n",
      "Epoch 96/100\n",
      "219/219 [==============================] - 1s 2ms/step - loss: 0.9471 - accuracy: 0.6803 - val_loss: 0.7722 - val_accuracy: 0.7642\n",
      "\n",
      "Epoch 00096: val_loss did not improve from 0.75676\n",
      "Epoch 97/100\n",
      "219/219 [==============================] - 1s 2ms/step - loss: 0.9451 - accuracy: 0.6819 - val_loss: 0.7357 - val_accuracy: 0.7733\n",
      "\n",
      "Epoch 00097: val_loss improved from 0.75676 to 0.73565, saving model to saved_models\\audio_classification.hdf5\n",
      "Epoch 98/100\n",
      "219/219 [==============================] - 1s 3ms/step - loss: 0.9447 - accuracy: 0.6873 - val_loss: 0.7410 - val_accuracy: 0.7676\n",
      "\n",
      "Epoch 00098: val_loss did not improve from 0.73565\n",
      "Epoch 99/100\n",
      "219/219 [==============================] - 1s 2ms/step - loss: 0.9564 - accuracy: 0.6885 - val_loss: 0.7607 - val_accuracy: 0.7619\n",
      "\n",
      "Epoch 00099: val_loss did not improve from 0.73565\n",
      "Epoch 100/100\n",
      "219/219 [==============================] - 1s 2ms/step - loss: 0.9545 - accuracy: 0.6813 - val_loss: 0.7662 - val_accuracy: 0.7630\n",
      "\n",
      "Epoch 00100: val_loss did not improve from 0.73565\n",
      "Training completed in time:  0:00:57.137435\n"
     ]
    }
   ],
   "source": [
    "## Trianing my model\n",
    "from tensorflow.keras.callbacks import ModelCheckpoint\n",
    "from datetime import datetime \n",
    "\n",
    "num_epochs = 100\n",
    "num_batch_size = 32\n",
    "\n",
    "checkpointer = ModelCheckpoint(filepath='saved_models/audio_classification.hdf5', \n",
    "                               verbose=1, save_best_only=True)\n",
    "start = datetime.now()\n",
    "\n",
    "model.fit(X_train, y_train, batch_size=num_batch_size, epochs=num_epochs, validation_data=(X_test, y_test), callbacks=[checkpointer], verbose=1)\n",
    "\n",
    "\n",
    "duration = datetime.now() - start\n",
    "print(\"Training completed in time: \", duration)"
   ]
  },
  {
   "cell_type": "code",
   "execution_count": 95,
   "metadata": {},
   "outputs": [
    {
     "name": "stdout",
     "output_type": "stream",
     "text": [
      "0.7630223035812378\n"
     ]
    }
   ],
   "source": [
    "\n",
    "test_accuracy=model.evaluate(X_test,y_test,verbose=0)\n",
    "print(test_accuracy[1])"
   ]
  },
  {
   "cell_type": "code",
   "execution_count": 96,
   "metadata": {},
   "outputs": [
    {
     "ename": "NameError",
     "evalue": "name 'prediction_feature' is not defined",
     "output_type": "error",
     "traceback": [
      "\u001b[1;31m---------------------------------------------------------------------------\u001b[0m",
      "\u001b[1;31mNameError\u001b[0m                                 Traceback (most recent call last)",
      "\u001b[1;32m<ipython-input-96-9ca760daa56e>\u001b[0m in \u001b[0;36m<module>\u001b[1;34m\u001b[0m\n\u001b[1;32m----> 1\u001b[1;33m \u001b[0mprediction_feature\u001b[0m\u001b[1;33m.\u001b[0m\u001b[0mshape\u001b[0m\u001b[1;33m\u001b[0m\u001b[1;33m\u001b[0m\u001b[0m\n\u001b[0m",
      "\u001b[1;31mNameError\u001b[0m: name 'prediction_feature' is not defined"
     ]
    }
   ],
   "source": [
    "\n",
    "prediction_feature.shape"
   ]
  },
  {
   "cell_type": "code",
   "execution_count": null,
   "metadata": {},
   "outputs": [],
   "source": []
  }
 ],
 "metadata": {
  "kernelspec": {
   "display_name": "Python 3",
   "language": "python",
   "name": "python3"
  },
  "language_info": {
   "codemirror_mode": {
    "name": "ipython",
    "version": 3
   },
   "file_extension": ".py",
   "mimetype": "text/x-python",
   "name": "python",
   "nbconvert_exporter": "python",
   "pygments_lexer": "ipython3",
   "version": "3.8.5"
  }
 },
 "nbformat": 4,
 "nbformat_minor": 4
}
